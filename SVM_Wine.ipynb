{
  "nbformat": 4,
  "nbformat_minor": 0,
  "metadata": {
    "colab": {
      "provenance": [],
      "collapsed_sections": [],
      "authorship_tag": "ABX9TyNJ026FELER0PeFKAKX3aMD",
      "include_colab_link": true
    },
    "kernelspec": {
      "name": "python3",
      "display_name": "Python 3"
    },
    "language_info": {
      "name": "python"
    }
  },
  "cells": [
    {
      "cell_type": "markdown",
      "metadata": {
        "id": "view-in-github",
        "colab_type": "text"
      },
      "source": [
        "<a href=\"https://colab.research.google.com/github/nurulalyh/TugasKB_SVM_Wine/blob/main/SVM_Wine.ipynb\" target=\"_parent\"><img src=\"https://colab.research.google.com/assets/colab-badge.svg\" alt=\"Open In Colab\"/></a>"
      ]
    },
    {
      "cell_type": "code",
      "execution_count": 5,
      "metadata": {
        "id": "gZXK41XBFH_y"
      },
      "outputs": [],
      "source": [
        "import pandas as pd\n",
        "from sklearn.svm import SVC\n",
        "from sklearn.metrics import classification_report, accuracy_score\n",
        "from sklearn.preprocessing import StandardScaler\n",
        "from sklearn.model_selection import train_test_split\n",
        "import warnings"
      ]
    },
    {
      "cell_type": "code",
      "source": [
        "warnings.filterwarnings('ignore')"
      ],
      "metadata": {
        "id": "PF0xYzmIGd9J"
      },
      "execution_count": 6,
      "outputs": []
    },
    {
      "cell_type": "code",
      "source": [
        "test_size = 0.2"
      ],
      "metadata": {
        "id": "sxWa9fyrGlib"
      },
      "execution_count": 7,
      "outputs": []
    },
    {
      "cell_type": "code",
      "source": [
        "# Red Wine\n",
        "datasetR = pd.read_csv('winequality-red.csv', sep=';')"
      ],
      "metadata": {
        "id": "Hmhb9GIHGn09"
      },
      "execution_count": 8,
      "outputs": []
    },
    {
      "cell_type": "code",
      "source": [
        "X = datasetR.iloc[:, :11]\n",
        "Y = datasetR.iloc[:, 11:]"
      ],
      "metadata": {
        "id": "viW5R8bmGonc"
      },
      "execution_count": 9,
      "outputs": []
    },
    {
      "cell_type": "code",
      "source": [
        "x_train, x_test, y_train, y_test = train_test_split(X, Y, test_size=test_size, shuffle=False)"
      ],
      "metadata": {
        "id": "PTD8hRXpGrB9"
      },
      "execution_count": 10,
      "outputs": []
    },
    {
      "cell_type": "code",
      "source": [
        "sc = StandardScaler()\n",
        "x_train = sc.fit_transform(x_train)\n",
        "x_test = sc.fit_transform(x_test)"
      ],
      "metadata": {
        "id": "dqyzWx69Gtch"
      },
      "execution_count": 11,
      "outputs": []
    },
    {
      "cell_type": "code",
      "source": [
        "model = SVC(kernel='linear')\n",
        "model.fit(x_train, y_train.values.ravel())\n",
        "predict = model.predict(x_test)"
      ],
      "metadata": {
        "id": "UfsaCuZgGvWS"
      },
      "execution_count": 12,
      "outputs": []
    },
    {
      "cell_type": "code",
      "source": [
        "print('\\n-RED WINE')\n",
        "print(' accuracy: ', round((accuracy_score(predict, y_test)*100), 2), '%')\n",
        "print('\\n', classification_report(y_test, predict))"
      ],
      "metadata": {
        "colab": {
          "base_uri": "https://localhost:8080/"
        },
        "id": "Ie1UeJAhGxOY",
        "outputId": "a38e4315-e538-4d9c-c060-1d8dc5045b2d"
      },
      "execution_count": 13,
      "outputs": [
        {
          "output_type": "stream",
          "name": "stdout",
          "text": [
            "\n",
            "-RED WINE\n",
            " accuracy:  61.25 %\n",
            "\n",
            "               precision    recall  f1-score   support\n",
            "\n",
            "           3       0.00      0.00      0.00         5\n",
            "           4       0.00      0.00      0.00        11\n",
            "           5       0.67      0.69      0.68       143\n",
            "           6       0.61      0.68      0.64       136\n",
            "           7       0.30      0.27      0.29        22\n",
            "           8       0.00      0.00      0.00         3\n",
            "\n",
            "    accuracy                           0.61       320\n",
            "   macro avg       0.26      0.27      0.27       320\n",
            "weighted avg       0.58      0.61      0.60       320\n",
            "\n"
          ]
        }
      ]
    },
    {
      "cell_type": "code",
      "source": [
        "# White Wine\n",
        "datasetW = pd.read_csv('winequality-white.csv', sep=';')"
      ],
      "metadata": {
        "id": "-8doJHMrGzez"
      },
      "execution_count": 14,
      "outputs": []
    },
    {
      "cell_type": "code",
      "source": [
        "X = datasetW.iloc[:, :11]\n",
        "Y = datasetW.iloc[:, 11:]"
      ],
      "metadata": {
        "id": "g_lLQ5xeG10B"
      },
      "execution_count": 15,
      "outputs": []
    },
    {
      "cell_type": "code",
      "source": [
        "x_train, x_test, y_train, y_test = train_test_split(X, Y, test_size=test_size, shuffle=False)"
      ],
      "metadata": {
        "id": "41P4eGczG3_0"
      },
      "execution_count": 16,
      "outputs": []
    },
    {
      "cell_type": "code",
      "source": [
        "sc = StandardScaler()\n",
        "x_train = sc.fit_transform(x_train)\n",
        "x_test = sc.fit_transform(x_test)"
      ],
      "metadata": {
        "id": "7X-Q9S2hG6yG"
      },
      "execution_count": 17,
      "outputs": []
    },
    {
      "cell_type": "code",
      "source": [
        "model = SVC(kernel='linear')\n",
        "model.fit(x_train, y_train.values.ravel())\n",
        "predict = model.predict(x_test)"
      ],
      "metadata": {
        "id": "rV2popmvG8ej"
      },
      "execution_count": 18,
      "outputs": []
    },
    {
      "cell_type": "code",
      "source": [
        "print('\\n-WHITE WINE')\n",
        "print(' accuracy: ', round((accuracy_score(predict, y_test)*100), 2), '%')\n",
        "print('\\n', classification_report(y_test, predict))"
      ],
      "metadata": {
        "colab": {
          "base_uri": "https://localhost:8080/"
        },
        "id": "yHd3093_G-Vz",
        "outputId": "3c8a6e4b-b08c-41d3-b3bd-f3d81e0af5b6"
      },
      "execution_count": 19,
      "outputs": [
        {
          "output_type": "stream",
          "name": "stdout",
          "text": [
            "\n",
            "-WHITE WINE\n",
            " accuracy:  60.41 %\n",
            "\n",
            "               precision    recall  f1-score   support\n",
            "\n",
            "           3       0.00      0.00      0.00         1\n",
            "           4       0.00      0.00      0.00        25\n",
            "           5       0.57      0.60      0.58       266\n",
            "           6       0.62      0.84      0.71       517\n",
            "           7       0.00      0.00      0.00       151\n",
            "           8       0.00      0.00      0.00        20\n",
            "\n",
            "    accuracy                           0.60       980\n",
            "   macro avg       0.20      0.24      0.22       980\n",
            "weighted avg       0.48      0.60      0.53       980\n",
            "\n"
          ]
        }
      ]
    }
  ]
}